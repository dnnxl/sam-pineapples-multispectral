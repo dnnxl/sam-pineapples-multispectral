{
 "cells": [
  {
   "cell_type": "code",
   "execution_count": 11,
   "metadata": {},
   "outputs": [],
   "source": [
    "import numpy as np\n",
    "import cv2\n",
    "import os\n",
    "\n",
    "# Load the images using cv2\n",
    "def load_images(image_dir, format=\".TIF\", channel=0):\n",
    "    images = []\n",
    "    for filename in os.listdir(image_dir):\n",
    "        if filename.endswith(format):\n",
    "            image_path = os.path.join(image_dir, filename)\n",
    "            if format == \".JPG\":\n",
    "                image = cv2.imread(image_path, cv2.COLOR_BGR2RGB)/255  # Use IMREAD_UNCHANGED to load the image as-is\n",
    "                # Extract only the first channel (R channel in RGB)\n",
    "                first_channel = image[:, :, channel]\n",
    "                image = first_channel \n",
    "            else:\n",
    "                image = cv2.imread(image_path, cv2.IMREAD_GRAYSCALE)/255  # Use IMREAD_UNCHANGED to load the image as-is\n",
    "            if image is not None:\n",
    "                images.append(image)\n",
    "    return np.array(images)\n",
    "\n",
    "# Calculate mean and standard deviation\n",
    "def calculate_mean_std(images):\n",
    "    all_images = np.stack(images, axis=0)\n",
    "    mean = np.mean(all_images)\n",
    "    std = np.std(all_images)\n",
    "    return mean, std\n",
    "\n",
    "# Normalize the images\n",
    "def normalize_image(image, mean, std):\n",
    "    return (image - mean) / std\n",
    "\n",
    "def calculate_mean_std_3_channels(images):\n",
    "    # Convert the image to float32 for precision\n",
    "    # Stack images along a new dimension\n",
    "    images_stack = np.stack(images, axis=0)\n",
    "    \n",
    "    # Calculate mean and std along the first axis (the stack axis)\n",
    "    means = np.mean(images_stack, axis=(0, 1, 2))\n",
    "    stds = np.std(images_stack, axis=(0, 1, 2))\n",
    "    \n",
    "    return means, stds\n",
    "\n",
    "# Main function to normalize all images\n",
    "def main(image_dir, format=\"_Blue.TIF\", channel=0):\n",
    "    images = load_images(image_dir, format=format, channel=channel)\n",
    "    if len(images) == 0:\n",
    "        raise ValueError(\"No images found in the specified directory.\")\n",
    "    if format == \".JPG\":\n",
    "        mean, std = calculate_mean_std_3_channels(images)\n",
    "    else:\n",
    "        mean, std = calculate_mean_std(images)\n",
    "    #normalized_images = [normalize_image(image, mean, std) for image in images]\n",
    "    return mean, std #normalized_images, mean, std\n",
    "\n",
    "# Directory containing the TIF files\n",
    "#image_dir = 'D:/RESEARCH/pineapple_sam/multispectral_gira_10_13_mar21_lote71_5m/train2017/'\n",
    "#mean, std = main(image_dir, format=\"_Blue.TIF\")\n",
    "#print(f'Mean: {mean}, Std: {std}')"
   ]
  },
  {
   "cell_type": "code",
   "execution_count": 24,
   "metadata": {},
   "outputs": [
    {
     "name": "stdout",
     "output_type": "stream",
     "text": [
      "Mean: 0.19921126550868484, Std: 0.08737094934046073\n"
     ]
    }
   ],
   "source": [
    "image_dir = 'D:/RESEARCH/pineapple_sam/multispectral_gira_10_13_mar21_lote71_5m/train2017/'\n",
    "mean, std = main(image_dir, format=\"_Blue.TIF\")\n",
    "print(f'Mean: {mean}, Std: {std}')"
   ]
  },
  {
   "cell_type": "code",
   "execution_count": 25,
   "metadata": {},
   "outputs": [
    {
     "name": "stdout",
     "output_type": "stream",
     "text": [
      "Mean: 0.2158713264973507, Std: 0.1077127887804845\n"
     ]
    }
   ],
   "source": [
    "image_dir = 'D:/RESEARCH/pineapple_sam/multispectral_gira_10_13_mar21_lote71_5m/train2017/'\n",
    "mean, std = main(image_dir, format=\"_Green.TIF\")\n",
    "print(f'Mean: {mean}, Std: {std}')"
   ]
  },
  {
   "cell_type": "code",
   "execution_count": 26,
   "metadata": {},
   "outputs": [
    {
     "name": "stdout",
     "output_type": "stream",
     "text": [
      "Mean: 0.30553897323991464, Std: 0.1411584645612633\n"
     ]
    }
   ],
   "source": [
    "image_dir = 'D:/RESEARCH/pineapple_sam/multispectral_gira_10_13_mar21_lote71_5m/train2017/'\n",
    "mean, std = main(image_dir, format=\"_RE.TIF\")\n",
    "print(f'Mean: {mean}, Std: {std}')"
   ]
  },
  {
   "cell_type": "code",
   "execution_count": 27,
   "metadata": {},
   "outputs": [
    {
     "name": "stdout",
     "output_type": "stream",
     "text": [
      "Mean: 0.1877148050892823, Std: 0.0980950697163566\n"
     ]
    }
   ],
   "source": [
    "image_dir = 'D:/RESEARCH/pineapple_sam/multispectral_gira_10_13_mar21_lote71_5m/train2017/'\n",
    "mean, std = main(image_dir, format=\"_Red.TIF\")\n",
    "print(f'Mean: {mean}, Std: {std}')"
   ]
  },
  {
   "cell_type": "code",
   "execution_count": 28,
   "metadata": {},
   "outputs": [
    {
     "name": "stdout",
     "output_type": "stream",
     "text": [
      "Mean: 0.39464298275190973, Std: 0.1565859098828533\n"
     ]
    }
   ],
   "source": [
    "image_dir = 'D:/RESEARCH/pineapple_sam/multispectral_gira_10_13_mar21_lote71_5m/train2017/'\n",
    "mean, std = main(image_dir, format=\"_NIR.TIF\")\n",
    "print(f'Mean: {mean}, Std: {std}')"
   ]
  },
  {
   "cell_type": "code",
   "execution_count": null,
   "metadata": {},
   "outputs": [],
   "source": [
    "image_dir = 'D:/RESEARCH/pineapple_sam/multispectral_gira_10_13_mar21_lote71_5m/train2017/'\n",
    "mean, std = main(image_dir, format=\".JPG\", channel=0)\n",
    "print(f'Mean: {mean}, Std: {std}')"
   ]
  },
  {
   "cell_type": "code",
   "execution_count": 3,
   "metadata": {},
   "outputs": [
    {
     "data": {
      "text/plain": [
       "0.41141770003162487"
      ]
     },
     "execution_count": 3,
     "metadata": {},
     "output_type": "execute_result"
    }
   ],
   "source": [
    "images = load_images('D:/RESEARCH/pineapple_sam/multispectral_gira_10_13_mar21_lote71_5m/train2017/', format=\".JPG\")\n",
    "mean, std = calculate_mean_std_3_channels(images)\n",
    "mean"
   ]
  },
  {
   "cell_type": "code",
   "execution_count": null,
   "metadata": {},
   "outputs": [],
   "source": [
    "# Pineapples dataset stats for blue, green, red, nir, re and rgb images\n",
    "\n",
    "BLUE_MEAN  = 0.199\n",
    "BLUE_STD   = 0.087\n",
    "\n",
    "GREEN_MEAN = 0.216\n",
    "GREEN_STD  = 0.108\n",
    "\n",
    "RED_MEAN   = 0.188\n",
    "RED_STD    = 0.098\n",
    "\n",
    "NIR_MEAN   = 0.395\n",
    "NIR_STD    = 0.157\n",
    "\n",
    "RE_MEAN    = 0.306 \n",
    "RE_STD     = 0.141\n",
    "\n",
    "RGB_MEAN   = [0.485, 0.456, 0.406] # Using imagenet stats\n",
    "RGB_STD    = [0.229, 0.224, 0.225] # Using imagenet stats"
   ]
  },
  {
   "cell_type": "code",
   "execution_count": 7,
   "metadata": {},
   "outputs": [],
   "source": [
    "def load_images_paths(image_dir, format=\".TIF\"):\n",
    "    images = []\n",
    "    for filename in os.listdir(image_dir):\n",
    "        if filename.endswith(format):\n",
    "            image_path = os.path.join(image_dir, filename)\n",
    "            #image = cv2.imread(image_path, cv2.IMREAD_UNCHANGED)  # Use IMREAD_UNCHANGED to load the image as-is\n",
    "            #if image is not None:\n",
    "            images.append(image_path)\n",
    "    return images"
   ]
  },
  {
   "cell_type": "code",
   "execution_count": 8,
   "metadata": {},
   "outputs": [
    {
     "data": {
      "text/plain": [
       "(1300, 1600, 3)"
      ]
     },
     "execution_count": 8,
     "metadata": {},
     "output_type": "execute_result"
    }
   ],
   "source": [
    "image_dir = 'D:/RESEARCH/pineapple_sam/multispectral_gira_10_13_mar21_lote71_5m/train2017/'\n",
    "images_paths = load_images_paths(image_dir, format=\".JPG\")\n",
    "img = cv2.imread(images_paths[0], cv2.COLOR_RGB2BGR) #.shape\n",
    "img.shape"
   ]
  },
  {
   "cell_type": "code",
   "execution_count": 22,
   "metadata": {},
   "outputs": [
    {
     "data": {
      "text/plain": [
       "array([[0.15686275, 0.15294118, 0.16078432, ..., 0.12941177, 0.1254902 ,\n",
       "        0.1254902 ],\n",
       "       [0.15294118, 0.15294118, 0.16078432, ..., 0.12941177, 0.1254902 ,\n",
       "        0.12156863],\n",
       "       [0.15294118, 0.15294118, 0.15686275, ..., 0.12941177, 0.1254902 ,\n",
       "        0.1254902 ],\n",
       "       ...,\n",
       "       [0.16862746, 0.15686275, 0.14901961, ..., 0.32156864, 0.32941177,\n",
       "        0.29803923],\n",
       "       [0.15686275, 0.15294118, 0.15294118, ..., 0.33333334, 0.3137255 ,\n",
       "        0.31764707],\n",
       "       [0.15294118, 0.14901961, 0.15294118, ..., 0.35686275, 0.32156864,\n",
       "        0.3254902 ]], dtype=float32)"
      ]
     },
     "execution_count": 22,
     "metadata": {},
     "output_type": "execute_result"
    }
   ],
   "source": [
    "img.astype(np.float32) / 255.0\n"
   ]
  },
  {
   "cell_type": "code",
   "execution_count": 21,
   "metadata": {},
   "outputs": [
    {
     "data": {
      "text/plain": [
       "array([[-0.48469795, -0.52958208, -0.43981383, ..., -0.79888683,\n",
       "        -0.84377096, -0.84377096],\n",
       "       [-0.52958208, -0.52958208, -0.43981383, ..., -0.79888683,\n",
       "        -0.84377096, -0.88865508],\n",
       "       [-0.52958208, -0.52958208, -0.48469795, ..., -0.79888683,\n",
       "        -0.84377096, -0.84377096],\n",
       "       ...,\n",
       "       [-0.35004558, -0.48469795, -0.5744662 , ...,  1.4004353 ,\n",
       "         1.49020355,  1.13113055],\n",
       "       [-0.48469795, -0.52958208, -0.52958208, ...,  1.53508768,\n",
       "         1.31066705,  1.35555118],\n",
       "       [-0.52958208, -0.5744662 , -0.52958208, ...,  1.80439243,\n",
       "         1.4004353 ,  1.44531943]])"
      ]
     },
     "execution_count": 21,
     "metadata": {},
     "output_type": "execute_result"
    }
   ],
   "source": [
    "mean = 50.79887270471464 \n",
    "std = 22.279592081817448\n",
    "\n",
    "(img - mean)/std"
   ]
  },
  {
   "cell_type": "code",
   "execution_count": 10,
   "metadata": {},
   "outputs": [
    {
     "data": {
      "text/plain": [
       "array([[10240, 10176, 10688, ...,  8448,  8256,  8192],\n",
       "       [ 9984, 10112, 10624, ...,  8448,  8320,  7936],\n",
       "       [10112,  9984, 10432, ...,  8576,  8320,  8384],\n",
       "       ...,\n",
       "       [11136, 10368,  9920, ..., 21184, 21568, 19584],\n",
       "       [10240, 10048, 10176, ..., 21888, 20672, 20928],\n",
       "       [ 9984,  9856, 10176, ..., 23424, 21184, 21376]], dtype=uint16)"
      ]
     },
     "execution_count": 10,
     "metadata": {},
     "output_type": "execute_result"
    }
   ],
   "source": [
    "image_dir = 'D:/RESEARCH/pineapple_sam/multispectral_gira_10_13_mar21_lote71_5m/train2017/'\n",
    "images_paths = load_images_paths(image_dir, format=\"_Blue.TIF\")\n",
    "cv2.imread(images_paths[0], cv2.IMREAD_UNCHANGED) #.shape"
   ]
  },
  {
   "cell_type": "code",
   "execution_count": null,
   "metadata": {},
   "outputs": [],
   "source": []
  }
 ],
 "metadata": {
  "kernelspec": {
   "display_name": "sam-pinas-dev",
   "language": "python",
   "name": "python3"
  },
  "language_info": {
   "codemirror_mode": {
    "name": "ipython",
    "version": 3
   },
   "file_extension": ".py",
   "mimetype": "text/x-python",
   "name": "python",
   "nbconvert_exporter": "python",
   "pygments_lexer": "ipython3",
   "version": "3.8.18"
  }
 },
 "nbformat": 4,
 "nbformat_minor": 2
}
